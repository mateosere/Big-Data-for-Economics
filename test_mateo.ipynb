{
 "cells": [
  {
   "cell_type": "markdown",
   "id": "bd698e37",
   "metadata": {},
   "source": [
    "# Báscias en Python "
   ]
  },
  {
   "cell_type": "raw",
   "id": "fff9a957",
   "metadata": {},
   "source": [
    "This section introduces some of the most relevant aspects of working with Python for social scientists. This includes the different data types available and ways to modify them. In 2009, as part of his first State of the Union address, President Barack Obama said: Democracy in a nation of 300 million people can be noisy and messy and complicated.\n",
    "To store that in Python, create a new variable called sentence"
   ]
  },
  {
   "cell_type": "code",
   "execution_count": null,
   "id": "40cc2dcd",
   "metadata": {},
   "outputs": [],
   "source": [
    "sentence =  'Democracy in a nation of 300 million people can be noisy and messy and complicated.'"
   ]
  }
 ],
 "metadata": {
  "kernelspec": {
   "display_name": "Python 3 (ipykernel)",
   "language": "python",
   "name": "python3"
  },
  "language_info": {
   "codemirror_mode": {
    "name": "ipython",
    "version": 3
   },
   "file_extension": ".py",
   "mimetype": "text/x-python",
   "name": "python",
   "nbconvert_exporter": "python",
   "pygments_lexer": "ipython3",
   "version": "3.8.8"
  }
 },
 "nbformat": 4,
 "nbformat_minor": 5
}
